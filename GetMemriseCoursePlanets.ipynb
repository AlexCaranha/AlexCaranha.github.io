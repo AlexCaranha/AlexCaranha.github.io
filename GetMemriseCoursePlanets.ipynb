{
  "nbformat": 4,
  "nbformat_minor": 0,
  "metadata": {
    "colab": {
      "name": "GetMemriseCoursePlanets.ipynb",
      "version": "0.3.2",
      "provenance": [],
      "collapsed_sections": [],
      "include_colab_link": true
    },
    "kernelspec": {
      "name": "python3",
      "display_name": "Python 3"
    },
    "accelerator": "GPU"
  },
  "cells": [
    {
      "cell_type": "markdown",
      "metadata": {
        "id": "view-in-github",
        "colab_type": "text"
      },
      "source": [
        "[View in Colaboratory](https://colab.research.google.com/github/AlexCaranha/AlexCaranha.github.io/blob/master/GetMemriseCoursePlanets.ipynb)"
      ]
    },
    {
      "metadata": {
        "id": "ST2xibSWonbE",
        "colab_type": "code",
        "colab": {}
      },
      "cell_type": "code",
      "source": [
        "# requests for fetching html of website\n",
        "import requests\n",
        "\n",
        "url = \"https://www.memrise.com/course/1370033/ingles-americano-2/\"\n",
        "\n",
        "# Make the request to a url\n",
        "r = requests.get(url)\n",
        "\n",
        "# Create soup from content of request\n",
        "c = r.content\n",
        "\n",
        "from bs4 import BeautifulSoup\n",
        "\n",
        "soup = BeautifulSoup(c)"
      ],
      "execution_count": 0,
      "outputs": []
    },
    {
      "metadata": {
        "id": "xBPRGvlft_z6",
        "colab_type": "code",
        "colab": {
          "base_uri": "https://localhost:8080/",
          "height": 489
        },
        "outputId": "aa5ecaf7-294c-4ecf-c4c3-f68e45859614"
      },
      "cell_type": "code",
      "source": [
        "# Find the element on the webpage\n",
        "planets = soup.find_all('a', attrs = {'class': 'level'})\n",
        "for planet in planets:\n",
        "  indice = int(planet.find('div', attrs = {'class' : 'level-index'}).text)\n",
        "  description = planet.find('div', attrs = {'class' : 'level-title'}).text.strip()\n",
        "  print (\"{0:02} - {1}\".format(indice, description))"
      ],
      "execution_count": 35,
      "outputs": [
        {
          "output_type": "stream",
          "text": [
            "01 - Em que lugar do universo?\n",
            "02 - No restaurante\n",
            "03 - Alimentando-se\n",
            "04 - Números\n",
            "05 - Frases úteis\n",
            "06 - Caminhando por aí\n",
            "07 - Comprando\n",
            "08 - Indo às compras\n",
            "09 - Eu gosto disso!\n",
            "10 - Família\n",
            "11 - Amigos\n",
            "12 - Apresentando as pessoas\n",
            "13 - Cores\n",
            "14 - Frases úteis\n",
            "15 - Roupas\n",
            "16 - Indo às compras\n",
            "17 - Alimentando-se\n",
            "18 - Os animais\n",
            "19 - Descrevendo o universo\n",
            "20 - Tempo e espaço\n",
            "21 - Em que lugar do universo\n",
            "22 - Números\n",
            "23 - Tempo e espaço\n",
            "24 - Que horas são?\n",
            "25 - Falando como um nativo\n"
          ],
          "name": "stdout"
        }
      ]
    }
  ]
}